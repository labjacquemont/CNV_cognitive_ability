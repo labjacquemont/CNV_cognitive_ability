{
 "cells": [
  {
   "cell_type": "code",
   "execution_count": null,
   "id": "469cdd65-7201-487a-b22b-38c392c62471",
   "metadata": {},
   "outputs": [],
   "source": [
    "import numpy as np\n",
    "import pandas as pd\n",
    "import time\n",
    "from multiprocessing import Pool\n",
    "import statsmodels.formula.api as sm\n",
    "import random\n",
    "import itertools\n",
    "\n",
    "\n",
    "import functions_compute_effect_sizes\n",
    "import functions_loading_data\n",
    "import warnings\n",
    "\n",
    "warnings.simplefilter(action='ignore', category=FutureWarning)"
   ]
  },
  {
   "cell_type": "code",
   "execution_count": null,
   "id": "8ae70a84-4dfb-4ed2-a91a-8d394788b46b",
   "metadata": {},
   "outputs": [],
   "source": [
    "####### Options #############\n",
    "\n",
    "# List sensitivity analyses\n",
    "list_ancestries = [\"All\"]# \"no_EUR\" \"EUR\"\n",
    "list_diagnosis = [\"wo_ASD\"] # \"w_ASD\" \"All\"\n",
    "list_max_age = [12000]#, 75*12, 70*12, 65*12,  55*12\n",
    "list_max_scores = [10000]#, 4, 6, 10, 20 ,40, 80\n",
    "\n",
    "# Other options\n",
    "cpu_count=62 # Number of CPUs to use\n",
    "score_names = [\"oe_lof_upper\"]\n",
    "\n",
    "other_covariates = ' + PC1 + PC2 + PC3 + PC4 + PC5 + PC6 + PC7 + PC8 + PC9 + PC10' # Other covariates to include in the model\n",
    "pheno_score = 'ZScore_IQ_adj_test2_age_sex_with_online_UKBB_Final' # Name of the column containing the phenotype score (continuous variable)\n",
    "\n",
    "####### Folder path containing all gene lists in tsv format\n",
    "genesets_file = '<Path of the file containing the list of all genes in the coding genome>'\n",
    "\n",
    "# Ouptut pathway\n",
    "output = \"<Path to store the results>\""
   ]
  },
  {
   "cell_type": "code",
   "execution_count": null,
   "id": "ec065cdd-f615-4b05-980e-c3dd6999f269",
   "metadata": {},
   "outputs": [],
   "source": [
    "# Load the genesets file with two columns: the first one is the name of the geneset and the second one is the list of genes separated by \";\"\n",
    "genesets = pd.read_csv(\"{}\".format(genesets_file), sep='\\t')"
   ]
  },
  {
   "cell_type": "code",
   "execution_count": null,
   "id": "e6775eff-b18a-409b-b3cd-066e66479c1f",
   "metadata": {},
   "outputs": [],
   "source": [
    "# Loading the dataset into 3 files, the first one containing the phenotypic information for each individual, the second one containing the list of CNV information for each individual and the third one containing the gene scores and information for each unique CNV.\n",
    "# Only genes fully covered by the CNV are considered.\n",
    "individual_info, cnv_indd, gene_score_info_overlap_split = functions_loading_data.prepare_Megadataset_dataframes(score_names)\n",
    "# Load the list of genes associated to the DDD genes to be used as a covariate in the model\n",
    "DDD_genes = functions_loading_data.get_DDD_genes()"
   ]
  },
  {
   "cell_type": "code",
   "execution_count": null,
   "id": "62082af1",
   "metadata": {},
   "outputs": [],
   "source": [
    "# Load all protein-coding genes with the a LOEUF score\n",
    "genes_annotation = pd.read_csv('<Path to the dataframe containing the whole coding genome and the scores associated>', sep='\\t', usecols=['gene_id', 'gene_type'] + score_names)\n",
    "genes_annotation = genes_annotation[(~genes_annotation.oe_lof_upper.isna()) & (genes_annotation.gene_type=='protein_coding')]\n",
    "print(genes_annotation.shape)"
   ]
  },
  {
   "cell_type": "code",
   "execution_count": null,
   "id": "928dcfda-1162-495b-97c7-2dc028387e59",
   "metadata": {},
   "outputs": [],
   "source": [
    "# Create list of score names based on the given list of categories\n",
    "cat_list = ['1_gene_list', '2_gene_list', '3_gene_list', '1_outside', '2_outside', 'ddd']\n",
    "list_scores  = []\n",
    "for cat in cat_list:\n",
    "    list_scores.append(\"LOEUF_cat_{}\".format(cat))\n",
    "    \n",
    "# Create dictonary containing list of unique genes carried by each individual for each category as key\n",
    "list_uniques = functions_compute_effect_sizes.create_dict_uniques_genes_by_loeuf_cat(gene_score_info_overlap_split, cnv_indd)"
   ]
  },
  {
   "cell_type": "code",
   "execution_count": null,
   "id": "cd5b3e49",
   "metadata": {},
   "outputs": [],
   "source": [
    "def compute_unique_gene_list(list_uniques, gene_list, carriers, cnv_type):\n",
    "    list_uniques_type = {}\n",
    "    for (key, value) in list_uniques.items():\n",
    "        if key.startswith(cnv_type):\n",
    "            list_uniques_type[key] = value\n",
    "\n",
    "    uniques = {}\n",
    "\n",
    "    loeuf_list = ['all']\n",
    "    uniques['{}_all'.format(\n",
    "        cnv_type)] = list_uniques_type['{}_all'.format(cnv_type)]\n",
    "\n",
    "\n",
    "    c = carriers\n",
    "    i = 0\n",
    "    unique_genes = [[]]\n",
    "\n",
    "    tmp_genes = uniques['{}_{}'.format(cnv_type, loeuf_list[i])][uniques['{}_{}'.format(\n",
    "        cnv_type, loeuf_list[i])].individual.isin(c)].copy()\n",
    "    all_genes = [genes.split(',') for genes in tmp_genes.gene_id]\n",
    "    all_g = [g for sublist in all_genes for g in sublist]\n",
    "    unique_genes.append([gl_g for gl_g in list(\n",
    "        set(all_g)) if gl_g in gene_list.gene_id.tolist()])\n",
    "    return unique_genes"
   ]
  },
  {
   "cell_type": "code",
   "execution_count": null,
   "id": "fd478dc2",
   "metadata": {},
   "outputs": [],
   "source": [
    "def runModel(\n",
    "        data: pd.DataFrame,\n",
    "        model_name: str,\n",
    "        cnv_type: str,\n",
    "        pheno_score: str,\n",
    "        list_scores: list,\n",
    "        gene_list: list,\n",
    "        list_uniques: list,\n",
    "        other_covariates: str) -> pd.DataFrame:\n",
    "    \n",
    "    if model_name == \"1_3\":\n",
    "        tmp_scores = ['{}_{}'.format(cnv_type, val) for val in list_scores if not (val.endswith(\"gene_list\"))]\n",
    "        data.eval('{0}_LOEUF_gene_list = {0}_LOEUF_cat_1_gene_list + {0}_LOEUF_cat_2_gene_list + {0}_LOEUF_cat_3_gene_list'.format(cnv_type),\n",
    "            inplace=True)\n",
    "        formula = \"{} ~ {}_LOEUF_gene_list + {}\".format(pheno_score, cnv_type, ' + '.join(tmp_scores)) + other_covariates\n",
    "        carriers = data[data['{0}_LOEUF_gene_list'.format(cnv_type)] > 0].individual.unique().tolist()\n",
    "        unique_genes = compute_unique_gene_list(\n",
    "            list_uniques, gene_list, carriers, cnv_type)\n",
    "\n",
    "    \n",
    "    if model_name == \"3_3\":\n",
    "        tmp_scores = ['{}_{}'.format(cnv_type, val) for val in list_scores]\n",
    "        formula = \"{} ~ {}\".format(pheno_score,\n",
    "                                   ' + '.join(tmp_scores)) + other_covariates\n",
    "\n",
    "\n",
    "    # Run the linear regression following formula and based on data. Capture error and print exception\n",
    "    try:\n",
    "        reg = sm.gls(formula, data=data).fit()\n",
    "    except Exception as e:\n",
    "        print(\"Error: \", e)\n",
    "        return pd.DataFrame()\n",
    "\n",
    "    return pd.DataFrame({'Estimate': reg.params[1:2],\n",
    "                        'pvalue': reg.pvalues[1:2],\n",
    "                        'TYPE': cnv_type,\n",
    "                        'n_carriers': len(carriers),\n",
    "\t\t\t\t\t\t'n_unique_genes': len(unique_genes[1])\n",
    "                         }\n",
    "                        )"
   ]
  },
  {
   "cell_type": "code",
   "execution_count": null,
   "id": "1aada55d-a00a-47a2-aae6-9585cff272a0",
   "metadata": {},
   "outputs": [],
   "source": [
    "# From the list of genes create a dictionary with the gene list as key and the list of genes as value\n",
    "# The genesets are randomly generated from the list of all genes in the coding genome and their size varies from 10 to 6000 genes and for each size, 100 random gene sets are generated.\n",
    "dict_r_genes = {}\n",
    "all_genes = genesets.values[0][1].split(';')\n",
    "print(len(all_genes))\n",
    "for i in range(10, 6000,1):\n",
    "    for j in range(100):\n",
    "        dict_r_genes['{}_{}'.format(i,j)] = ';'.join(random.sample(all_genes, i))\n",
    "\n",
    "df_r_genes = pd.DataFrame(dict_r_genes.items())\n",
    "# Save the random gene sets into a tsv file\n",
    "df_r_genes.to_csv('<Path to file where you want to store the gene-sets>', sep='\\t', index=False)\n",
    "print(df_r_genes)"
   ]
  },
  {
   "cell_type": "code",
   "execution_count": null,
   "id": "99031c09",
   "metadata": {},
   "outputs": [],
   "source": [
    "# Associate the list of genes fully deleted or duplicated for each individual\n",
    "genes_by_individual = functions_compute_effect_sizes.aggregate_ind_cnv_genes(cnv_indd, gene_score_info_overlap_split.loc[:,['CHR', 'START', 'STOP', 'TYPE', 'gene_id']], individual_info)"
   ]
  },
  {
   "cell_type": "code",
   "execution_count": null,
   "id": "51d79182-1c3e-48fb-b11a-7df349a80a76",
   "metadata": {
    "tags": []
   },
   "outputs": [],
   "source": [
    "def compute_sum_score_one_gene_list(genes_annotation, genes_by_individual, gene_set):    \n",
    "    print(gene_set[0])\n",
    "    start_time = time.time()\n",
    "\n",
    "    list_name = gene_set[0]\n",
    "    gene_string = gene_set[1]\n",
    "    genes = gene_string.split(';')\n",
    "    gene_list = pd.DataFrame({'gene_id':genes})\n",
    "    genes_annotation_gene_sets = functions_compute_effect_sizes.compute_loeuf_cat_specific_genes(genes_annotation, \"gene_id\", gene_list.iloc[:,0].tolist(), DDD_genes.gene_id.tolist())\n",
    "    merged = pd.merge(genes_by_individual, genes_annotation_gene_sets, on='gene_id', how='left')\n",
    "    counted_cnvs = {}\n",
    "    clean_list_scores = list_scores+['loeuf_inv_full']\n",
    "    for cnv_type in ['DEL', 'DUP']:\n",
    "        merged_cnv = merged[merged.TYPE == cnv_type]\n",
    "        counts = merged_cnv.groupby('individual', as_index=False)[clean_list_scores].sum()\n",
    "        counts = counts.rename(columns={c: cnv_type+'_'+c for c in counts.columns if c in clean_list_scores})\n",
    "        counted_cnvs[cnv_type] = counts\n",
    "\n",
    "    combinations = list(itertools.product(['DEL', 'DUP'], clean_list_scores))\n",
    "    joined_list = ['_'.join(combination) for combination in combinations]\n",
    "\n",
    "    merged_counts = pd.merge(counted_cnvs['DEL'], counted_cnvs['DUP'], on='individual', how='outer')\n",
    "    clean_FINAL_SUM_ALL = pd.merge(individual_info, merged_counts,  on='individual', how='left')\n",
    "    clean_FINAL_SUM_ALL[joined_list] = clean_FINAL_SUM_ALL[joined_list].replace({np.nan:0.0})\n",
    "\n",
    "    clean_FINAL_SUM_ALL = clean_FINAL_SUM_ALL[~clean_FINAL_SUM_ALL.Cohort.isin([\"SSC\", \"SPARK\", \"MSSNG\"])].copy()\n",
    "    model_summary = pd.DataFrame()\n",
    "    for cnv_type in [\"DEL\", \"DUP\"]:\n",
    "        tmp_summary = runModel(clean_FINAL_SUM_ALL, \"1_3\", cnv_type, pheno_score, list_scores, gene_list,list_uniques, other_covariates)\n",
    "        model_summary = pd.concat([model_summary, tmp_summary])\n",
    "\n",
    "    model_summary[\"gene_list_name\"] = gene_set[0]\n",
    "    print(\"-- %s seconds --\" % (time.time() - start_time), flush=True)\n",
    "    return (model_summary)"
   ]
  },
  {
   "cell_type": "code",
   "execution_count": null,
   "id": "14dd86cc-6f1a-47c2-a9a2-97617b67a1de",
   "metadata": {},
   "outputs": [],
   "source": [
    "from functools import partial\n",
    "partial_func = partial(compute_sum_score_one_gene_list, genes_annotation, genes_by_individual)\n",
    "\n",
    "pool = Pool(int(cpu_count))\n",
    "start_all = time.time()\n",
    "\n",
    "data_outputs = pool.map(partial_func ,dict_r_genes.items())\n",
    "\n",
    "pool.close()\n",
    "pool.join()\n",
    "print(\"-- %s seconds all--\" % (time.time() - start_all))\n",
    "df_reconstructed = pd.concat(data_outputs)\n",
    "\n",
    "df_reconstructed.to_csv(output, sep=\"\\t\", index=False)"
   ]
  }
 ],
 "metadata": {
  "kernelspec": {
   "display_name": "Python 3.10",
   "language": "python",
   "name": "python3"
  },
  "language_info": {
   "codemirror_mode": {
    "name": "ipython",
    "version": 3
   },
   "file_extension": ".py",
   "mimetype": "text/x-python",
   "name": "python",
   "nbconvert_exporter": "python",
   "pygments_lexer": "ipython3",
   "version": "3.10.2"
  }
 },
 "nbformat": 4,
 "nbformat_minor": 5
}
