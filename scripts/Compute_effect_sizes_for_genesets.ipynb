{
 "cells": [
  {
   "cell_type": "code",
   "execution_count": null,
   "id": "469cdd65-7201-487a-b22b-38c392c62471",
   "metadata": {},
   "outputs": [],
   "source": [
    "import numpy as np\n",
    "import pandas as pd\n",
    "import time\n",
    "from multiprocessing import Pool\n",
    "import functions_compute_effect_sizes\n",
    "import functions_loading_data\n",
    "import warnings\n",
    "import itertools\n",
    "\n",
    "warnings.simplefilter(action='ignore', category=FutureWarning)"
   ]
  },
  {
   "cell_type": "code",
   "execution_count": null,
   "id": "8ae70a84-4dfb-4ed2-a91a-8d394788b46b",
   "metadata": {},
   "outputs": [],
   "source": [
    "####### Options #############\n",
    "\n",
    "# List sensitivity analyses\n",
    "list_ancestries = [\"All\"]# \"no_EUR\" \"EUR\"\n",
    "list_diagnosis = [\"wo_ASD\"] # \"w_ASD\" \"All\"\n",
    "list_max_age = [12000]#, 75*12, 70*12, 65*12,  55*12\n",
    "list_max_scores = [10000]#, 4, 6, 10, 20 ,40, 80\n",
    "\n",
    "# Other options\n",
    "cpu_count=1 # Number of CPUs to use\n",
    "score_names = [\"oe_lof_upper\"]\n",
    "\n",
    "other_covariates = ' + PC1 + PC2 + PC3 + PC4 + PC5 + PC6 + PC7 + PC8 + PC9 + PC10' # Other covariates to include in the model\n",
    "pheno_score = 'ZScore_IQ_adj_test2_age_sex_with_online_UKBB_Final' # Name of the column containing the phenotype score (continuous variable)\n",
    "\n",
    "####### Folder path containing all gene lists in tsv format\n",
    "genesets_file = '<Path of the file containing genes associated to biological functions>'\n",
    "\n",
    "# Ouptut pathway\n",
    "output = \"<Path to store the results>\"\n"
   ]
  },
  {
   "cell_type": "code",
   "execution_count": null,
   "id": "ec065cdd-f615-4b05-980e-c3dd6999f269",
   "metadata": {},
   "outputs": [],
   "source": [
    "# Load the genesets file with two columns: the first one is the name of the geneset and the second one is the list of genes separated by \";\"\n",
    "genesets = pd.read_csv(\"{}\".format(genesets_file), sep='\\t')\n",
    "genesets['count'] = genesets['1'].str.count(';') + 1\n",
    "genesets = genesets[(genesets['count']>=10)]\n",
    "print(genesets.shape)"
   ]
  },
  {
   "cell_type": "code",
   "execution_count": null,
   "id": "e6775eff-b18a-409b-b3cd-066e66479c1f",
   "metadata": {},
   "outputs": [],
   "source": [
    "# Loading the dataset into 3 files, the first one containing the phenotypic information for each individual, the second one containing the list of CNV information for each individual and the third one containing the gene scores and information for each unique CNV.\n",
    "# Only genes fully covered by the CNV are considered.\n",
    "individual_info, cnv_indd, gene_score_info_overlap_split = functions_loading_data.prepare_Megadataset_dataframes(score_names)\n",
    "# Load the list of genes associated to the DDD genes to be used as a covariate in the model\n",
    "DDD_genes = functions_loading_data.get_DDD_genes()"
   ]
  },
  {
   "cell_type": "code",
   "execution_count": null,
   "id": "f78007af-b7b2-4261-bf51-c0ee12b784a1",
   "metadata": {},
   "outputs": [],
   "source": [
    "# Load all protein-coding genes with the a LOEUF score\n",
    "genes_annotation = pd.read_csv('<Path to the dataframe containing the whole coding genome and the scores associated>', sep='\\t', usecols=['gene_id', 'gene_type'] + score_names)\n",
    "genes_annotation = genes_annotation[(~genes_annotation.oe_lof_upper.isna()) & (genes_annotation.gene_type=='protein_coding')]\n",
    "print(genes_annotation.shape)"
   ]
  },
  {
   "cell_type": "code",
   "execution_count": null,
   "id": "928dcfda-1162-495b-97c7-2dc028387e59",
   "metadata": {},
   "outputs": [],
   "source": [
    "# Create list of score names based on the given list of categories\n",
    "cat_list = ['1_gene_list', '2_gene_list', '3_gene_list', '1_outside', '2_outside', 'ddd']\n",
    "list_scores  = []\n",
    "for cat in cat_list:\n",
    "    list_scores.append(\"LOEUF_cat_{}\".format(cat))\n",
    "    \n",
    "# Create dictonary containing list of unique genes carried by each individual for each category as key\n",
    "list_uniques = functions_compute_effect_sizes.create_dict_uniques_genes_by_loeuf_cat(gene_score_info_overlap_split, cnv_indd)"
   ]
  },
  {
   "cell_type": "code",
   "execution_count": null,
   "id": "cd99f1c6-aaff-49e5-8eaf-efb26adc3500",
   "metadata": {},
   "outputs": [],
   "source": [
    "def compute_sum_score_one_gene_list(genes_annotation, genes_by_individual, gene_set):    \n",
    "    print(gene_set[0])\n",
    "    start_time = time.time()\n",
    "\n",
    "    list_name = gene_set[0]\n",
    "    gene_string = gene_set[1]\n",
    "    genes = gene_string.split(';')\n",
    "    gene_list = pd.DataFrame({'gene_id':genes})\n",
    "    genes_annotation_gene_sets = functions_compute_effect_sizes.compute_loeuf_cat_specific_genes(genes_annotation, \"gene_id\", gene_list.iloc[:,0].tolist(), DDD_genes.gene_id.tolist())\n",
    "    merged = pd.merge(genes_by_individual, genes_annotation_gene_sets, on='gene_id', how='left')\n",
    "    counted_cnvs = {}\n",
    "    clean_list_scores = list_scores+['loeuf_inv_full']\n",
    "    for cnv_type in ['DEL', 'DUP']:\n",
    "        merged_cnv = merged[merged.TYPE == cnv_type]\n",
    "        counts = merged_cnv.groupby('individual', as_index=False)[clean_list_scores].sum()\n",
    "        counts = counts.rename(columns={c: cnv_type+'_'+c for c in counts.columns if c in clean_list_scores})\n",
    "        counted_cnvs[cnv_type] = counts\n",
    "\n",
    "    combinations = list(itertools.product(['DEL', 'DUP'], clean_list_scores))\n",
    "    joined_list = ['_'.join(combination) for combination in combinations]\n",
    "\n",
    "    merged_counts = pd.merge(counted_cnvs['DEL'], counted_cnvs['DUP'], on='individual', how='outer')\n",
    "    clean_FINAL_SUM_ALL = pd.merge(individual_info, merged_counts,  on='individual', how='left')\n",
    "    \n",
    "    clean_FINAL_SUM_ALL[joined_list] = clean_FINAL_SUM_ALL[joined_list].replace({np.nan:0.0})\n",
    "    print(\"-- %s seconds --\" % (time.time() - start_time), flush=True)\n",
    "\n",
    "\n",
    "    model_summary = pd.DataFrame()\n",
    "    for ancestry in list_ancestries:\n",
    "        if ancestry == \"EUR\":\n",
    "            an_FINAL_SUM_ALL = clean_FINAL_SUM_ALL[clean_FINAL_SUM_ALL.Merge_final_ancestry == \"EUR\"]\n",
    "        elif ancestry == \"All\":\n",
    "            an_FINAL_SUM_ALL = clean_FINAL_SUM_ALL\n",
    "        elif ancestry == \"no_EUR\":\n",
    "            an_FINAL_SUM_ALL = clean_FINAL_SUM_ALL[clean_FINAL_SUM_ALL.Merge_final_ancestry != \"EUR\"]\n",
    "        else:\n",
    "            exit()\n",
    "#             \n",
    "        for diag in list_diagnosis:\n",
    "            if diag == \"w_ASD\":\n",
    "                diag_an_FINAL_SUM_ALL = an_FINAL_SUM_ALL[an_FINAL_SUM_ALL.Cohort.isin([\"SSC\", \"SPARK\", \"MSSNG\"])]\n",
    "            elif diag == \"All\":\n",
    "                diag_an_FINAL_SUM_ALL = an_FINAL_SUM_ALL\n",
    "            elif diag == \"wo_ASD\":\n",
    "                diag_an_FINAL_SUM_ALL = an_FINAL_SUM_ALL[~an_FINAL_SUM_ALL.Cohort.isin([\"SSC\", \"SPARK\", \"MSSNG\"])]\n",
    "            else:\n",
    "                exit()\n",
    "                \n",
    "            for max_age in list_max_age:\n",
    "                age_diag_an_FINAL_SUM_ALL  = diag_an_FINAL_SUM_ALL[diag_an_FINAL_SUM_ALL.Age_ZScore_IQ_adj_age_sex_PC1_10_with_online_UKBB <= max_age]                \n",
    "                for cnv_type in [\"DEL\", \"DUP\"]:\n",
    "                    for max_s in list_max_scores:\n",
    "                        score_age_diag_an_FINAL_SUM_ALL = age_diag_an_FINAL_SUM_ALL[age_diag_an_FINAL_SUM_ALL[\"{}_loeuf_inv_full\".format(cnv_type)] < max_s]\n",
    "                        dict_filters = {'ancestry':ancestry, 'diag':diag, 'max_age':max_age, 'max_s':max_s, 'list_name':list_name}\n",
    "                        tmp_summary = functions_compute_effect_sizes.compute_linear_models(score_age_diag_an_FINAL_SUM_ALL, cnv_type, pheno_score, list_scores, gene_list, list_uniques, other_covariates, dict_filters)\n",
    "                        model_summary = pd.concat([model_summary, tmp_summary])\n",
    "        \n",
    "    print(\"-- %s seconds --\" % (time.time() - start_time), flush=True)\n",
    "    return (model_summary)"
   ]
  },
  {
   "cell_type": "code",
   "execution_count": null,
   "id": "377a777b-bbdf-49d4-8d6f-dd77f4bc1737",
   "metadata": {},
   "outputs": [],
   "source": [
    "\n",
    "genes_by_individual = functions_compute_effect_sizes.aggregate_ind_cnv_genes(cnv_indd, gene_score_info_overlap_split.loc[:,['CHR', 'START', 'STOP', 'TYPE', 'gene_id']], individual_info)"
   ]
  },
  {
   "cell_type": "code",
   "execution_count": null,
   "id": "14dd86cc-6f1a-47c2-a9a2-97617b67a1de",
   "metadata": {},
   "outputs": [],
   "source": [
    "from functools import partial\n",
    "partial_func = partial(compute_sum_score_one_gene_list, genes_annotation,genes_by_individual)\n",
    "\n",
    "pool = Pool(cpu_count)\n",
    "start_all = time.time()\n",
    "data_outputs = pool.map(partial_func ,genesets.values.tolist())\n",
    "pool.close()\n",
    "pool.join()\n",
    "print(\"-- %s seconds all--\" % (time.time() - start_all))\n",
    "df_reconstructed = pd.concat(data_outputs)\n",
    "df_reconstructed.to_csv(output, sep=\"\\t\", index=False)"
   ]
  }
 ],
 "metadata": {
  "kernelspec": {
   "display_name": "Python 3.10",
   "language": "python",
   "name": "python3"
  },
  "language_info": {
   "codemirror_mode": {
    "name": "ipython",
    "version": 3
   },
   "file_extension": ".py",
   "mimetype": "text/x-python",
   "name": "python",
   "nbconvert_exporter": "python",
   "pygments_lexer": "ipython3",
   "version": "3.10.2"
  }
 },
 "nbformat": 4,
 "nbformat_minor": 5
}
